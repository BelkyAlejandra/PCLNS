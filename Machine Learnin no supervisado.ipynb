{
 "cells": [
  {
   "cell_type": "code",
   "execution_count": 140,
   "id": "96d670ba",
   "metadata": {},
   "outputs": [],
   "source": [
    "import pandas as pd\n",
    "import numpy as np\n",
    "import matplotlib.pyplot as plt\n",
    "import seaborn as sns"
   ]
  },
  {
   "cell_type": "code",
   "execution_count": 141,
   "id": "d7472eff",
   "metadata": {},
   "outputs": [],
   "source": [
    "df=pd.read_csv('C:/Users/belky/Crystal_structure.csv')\n",
    "data=df.copy()"
   ]
  },
  {
   "cell_type": "markdown",
   "id": "077083c3",
   "metadata": {},
   "source": [
    "## ¿De qué trata nuestro set de datos? ##\n",
    "\n",
    "Se han realizado numerosos estudios de estructuras de perovskita en el campo de la ciencia e ingeniería cerámicas, física de materiales y química inorgánica de estado sólido debido a su flexibilidad composicional, distorsión de la configuración catiónica y estructura electrónica de estado de valencia mixta.\n",
    "Esto ha llevado a los científicos a ajustar las propiedades del material para obtener una estructura de perovskita mucho más ideal. Una perovskita ideal tiene una estructura ABX3 donde A y B son dos cationes de diferentes tamaños y X es un anión.\n",
    "\n",
    "Se han identificado un total de 73 elementos en los sitios A y B de las estructuras ABO3,\n",
    "dando lugar a numerosos óxidos del tipo perovskita. Se han identificado características como la electronegatividad, el radio iónico, la valencia y las longitudes de enlace de los pares A-O y B-O que permiten una predicción a priori de la estructura cristalina."
   ]
  },
  {
   "cell_type": "code",
   "execution_count": 142,
   "id": "9630e92d",
   "metadata": {},
   "outputs": [
    {
     "data": {
      "text/html": [
       "<div>\n",
       "<style scoped>\n",
       "    .dataframe tbody tr th:only-of-type {\n",
       "        vertical-align: middle;\n",
       "    }\n",
       "\n",
       "    .dataframe tbody tr th {\n",
       "        vertical-align: top;\n",
       "    }\n",
       "\n",
       "    .dataframe thead th {\n",
       "        text-align: right;\n",
       "    }\n",
       "</style>\n",
       "<table border=\"1\" class=\"dataframe\">\n",
       "  <thead>\n",
       "    <tr style=\"text-align: right;\">\n",
       "      <th></th>\n",
       "      <th>Compound</th>\n",
       "      <th>A</th>\n",
       "      <th>B</th>\n",
       "      <th>In literature</th>\n",
       "      <th>v(A)</th>\n",
       "      <th>v(B)</th>\n",
       "      <th>r(AXII)(Å)</th>\n",
       "      <th>r(AVI)(Å)</th>\n",
       "      <th>r(BVI)(Å)</th>\n",
       "      <th>EN(A)</th>\n",
       "      <th>EN(B)</th>\n",
       "      <th>l(A-O)(Å)</th>\n",
       "      <th>l(B-O)(Å)</th>\n",
       "      <th>ΔENR</th>\n",
       "      <th>tG</th>\n",
       "      <th>τ</th>\n",
       "      <th>μ</th>\n",
       "      <th>Lowest distortion</th>\n",
       "    </tr>\n",
       "  </thead>\n",
       "  <tbody>\n",
       "    <tr>\n",
       "      <th>0</th>\n",
       "      <td>Ac2O3</td>\n",
       "      <td>Ac</td>\n",
       "      <td>Ac</td>\n",
       "      <td>False</td>\n",
       "      <td>0</td>\n",
       "      <td>0</td>\n",
       "      <td>1.12</td>\n",
       "      <td>1.12</td>\n",
       "      <td>1.12</td>\n",
       "      <td>1.1</td>\n",
       "      <td>1.10</td>\n",
       "      <td>0.0</td>\n",
       "      <td>0.000000</td>\n",
       "      <td>-3.248000</td>\n",
       "      <td>0.707107</td>\n",
       "      <td>-</td>\n",
       "      <td>0.800000</td>\n",
       "      <td>cubic</td>\n",
       "    </tr>\n",
       "    <tr>\n",
       "      <th>1</th>\n",
       "      <td>AcAgO3</td>\n",
       "      <td>Ac</td>\n",
       "      <td>Ag</td>\n",
       "      <td>False</td>\n",
       "      <td>0</td>\n",
       "      <td>0</td>\n",
       "      <td>1.12</td>\n",
       "      <td>1.12</td>\n",
       "      <td>0.95</td>\n",
       "      <td>1.1</td>\n",
       "      <td>1.93</td>\n",
       "      <td>0.0</td>\n",
       "      <td>2.488353</td>\n",
       "      <td>-2.565071</td>\n",
       "      <td>0.758259</td>\n",
       "      <td>-</td>\n",
       "      <td>0.678571</td>\n",
       "      <td>orthorhombic</td>\n",
       "    </tr>\n",
       "    <tr>\n",
       "      <th>2</th>\n",
       "      <td>AcAlO3</td>\n",
       "      <td>Ac</td>\n",
       "      <td>Al</td>\n",
       "      <td>False</td>\n",
       "      <td>0</td>\n",
       "      <td>0</td>\n",
       "      <td>1.12</td>\n",
       "      <td>1.12</td>\n",
       "      <td>0.54</td>\n",
       "      <td>1.1</td>\n",
       "      <td>1.61</td>\n",
       "      <td>0.0</td>\n",
       "      <td>1.892894</td>\n",
       "      <td>-1.846714</td>\n",
       "      <td>0.918510</td>\n",
       "      <td>-</td>\n",
       "      <td>0.385714</td>\n",
       "      <td>cubic</td>\n",
       "    </tr>\n",
       "    <tr>\n",
       "      <th>3</th>\n",
       "      <td>AcAsO3</td>\n",
       "      <td>Ac</td>\n",
       "      <td>As</td>\n",
       "      <td>False</td>\n",
       "      <td>0</td>\n",
       "      <td>0</td>\n",
       "      <td>1.12</td>\n",
       "      <td>1.12</td>\n",
       "      <td>0.52</td>\n",
       "      <td>1.1</td>\n",
       "      <td>2.18</td>\n",
       "      <td>0.0</td>\n",
       "      <td>1.932227</td>\n",
       "      <td>-1.577429</td>\n",
       "      <td>0.928078</td>\n",
       "      <td>-</td>\n",
       "      <td>0.371429</td>\n",
       "      <td>orthorhombic</td>\n",
       "    </tr>\n",
       "    <tr>\n",
       "      <th>4</th>\n",
       "      <td>AcAuO3</td>\n",
       "      <td>Ac</td>\n",
       "      <td>Au</td>\n",
       "      <td>False</td>\n",
       "      <td>0</td>\n",
       "      <td>0</td>\n",
       "      <td>1.12</td>\n",
       "      <td>1.12</td>\n",
       "      <td>0.93</td>\n",
       "      <td>1.1</td>\n",
       "      <td>2.54</td>\n",
       "      <td>0.0</td>\n",
       "      <td>2.313698</td>\n",
       "      <td>-2.279786</td>\n",
       "      <td>0.764768</td>\n",
       "      <td>-</td>\n",
       "      <td>0.664286</td>\n",
       "      <td>orthorhombic</td>\n",
       "    </tr>\n",
       "  </tbody>\n",
       "</table>\n",
       "</div>"
      ],
      "text/plain": [
       "  Compound   A   B  In literature v(A) v(B)  r(AXII)(Å)  r(AVI)(Å)  r(BVI)(Å)  \\\n",
       "0    Ac2O3  Ac  Ac          False    0    0        1.12       1.12       1.12   \n",
       "1   AcAgO3  Ac  Ag          False    0    0        1.12       1.12       0.95   \n",
       "2   AcAlO3  Ac  Al          False    0    0        1.12       1.12       0.54   \n",
       "3   AcAsO3  Ac  As          False    0    0        1.12       1.12       0.52   \n",
       "4   AcAuO3  Ac  Au          False    0    0        1.12       1.12       0.93   \n",
       "\n",
       "   EN(A)  EN(B)  l(A-O)(Å)  l(B-O)(Å)      ΔENR        tG  τ         μ  \\\n",
       "0    1.1   1.10        0.0   0.000000 -3.248000  0.707107  -  0.800000   \n",
       "1    1.1   1.93        0.0   2.488353 -2.565071  0.758259  -  0.678571   \n",
       "2    1.1   1.61        0.0   1.892894 -1.846714  0.918510  -  0.385714   \n",
       "3    1.1   2.18        0.0   1.932227 -1.577429  0.928078  -  0.371429   \n",
       "4    1.1   2.54        0.0   2.313698 -2.279786  0.764768  -  0.664286   \n",
       "\n",
       "  Lowest distortion  \n",
       "0             cubic  \n",
       "1      orthorhombic  \n",
       "2             cubic  \n",
       "3      orthorhombic  \n",
       "4      orthorhombic  "
      ]
     },
     "execution_count": 142,
     "metadata": {},
     "output_type": "execute_result"
    }
   ],
   "source": [
    "df.head()"
   ]
  },
  {
   "cell_type": "code",
   "execution_count": 143,
   "id": "3cac9047",
   "metadata": {},
   "outputs": [
    {
     "name": "stdout",
     "output_type": "stream",
     "text": [
      "<class 'pandas.core.frame.DataFrame'>\n",
      "RangeIndex: 5329 entries, 0 to 5328\n",
      "Data columns (total 18 columns):\n",
      " #   Column             Non-Null Count  Dtype  \n",
      "---  ------             --------------  -----  \n",
      " 0   Compound           5329 non-null   object \n",
      " 1   A                  5329 non-null   object \n",
      " 2   B                  5329 non-null   object \n",
      " 3   In literature      5329 non-null   bool   \n",
      " 4   v(A)               5329 non-null   object \n",
      " 5   v(B)               5329 non-null   object \n",
      " 6   r(AXII)(Å)         5329 non-null   float64\n",
      " 7   r(AVI)(Å)          5329 non-null   float64\n",
      " 8   r(BVI)(Å)          5329 non-null   float64\n",
      " 9   EN(A)              5329 non-null   float64\n",
      " 10  EN(B)              5329 non-null   float64\n",
      " 11  l(A-O)(Å)          5329 non-null   float64\n",
      " 12  l(B-O)(Å)          5329 non-null   float64\n",
      " 13  ΔENR               5329 non-null   float64\n",
      " 14  tG                 5329 non-null   float64\n",
      " 15  τ                  5329 non-null   object \n",
      " 16  μ                  5329 non-null   float64\n",
      " 17  Lowest distortion  5329 non-null   object \n",
      "dtypes: bool(1), float64(10), object(7)\n",
      "memory usage: 713.1+ KB\n"
     ]
    }
   ],
   "source": [
    "df.info()"
   ]
  },
  {
   "cell_type": "markdown",
   "id": "ade221c9",
   "metadata": {},
   "source": [
    "Se tiene un set de datos con:\n",
    "* 18 columnas \n",
    "* 5329 filas\n",
    "\n",
    "Donde:\n",
    "\n",
    "0. Es el nombre del compuesto.\n",
    "1. Es el primer elemento.\n",
    "2. Es el segundo elemento.\n",
    "3. Muestra si el material está presente en la literatura.\n",
    "4. Valencias del elemento A.\n",
    "5. Valencias del elemento B.\n",
    "6. \n",
    "7. Radio iónico del catión A.\n",
    "8. Radio iónico del catión B.\n",
    "9. Valor medio de electronegatividad del catión A.\n",
    "10. Valor medio de electronegatividad del catión B.\n",
    "11. Longitudes de enlace de los pares A-O.\n",
    "12. Longitudes de enlace de los pares B-O.\n",
    "13. Diferencia de electronegatividad con el radio\n",
    "14. Factor de tolerancia de Goldschmidt\n",
    "15. Nuevo factor de tolerancia.\n",
    "16. Factor octaédrico.\n",
    "17. Distorsión más baja.\n",
    "\n",
    "\n",
    "Lo que dicen los indios en el paper.\n",
    "\n",
    "El conjunto de datos utilizado en este trabajo consiste en 6005 óxidos de tipo perovskita ABO3. De las 16 características del conjunto de datos,\n",
    "he usado 9 de ellos. La lista de características que se utilizan para entrenar nuestro modelo de clasificación de estructuras se proporciona a continuación:\n",
    "* r(AXII) 12 coordinación de sitio del catión A\n",
    "* r(AV I) 6 coordinación de sitio del catión A\n",
    "* EN(A) Electronegatividad del catión A\n",
    "* EN(B) Electronegatividad del catión B\n",
    "* l(A − O) Longitud del enlace covalente A-O\n",
    "* l(B − O) Longitud del enlace covalente B-O\n",
    "* ∆ENR Diferencia de electronegatividad con radio\n",
    "* factor de tolerancia tG Goldschmidt\n",
    "* µ factor octaédrico\n",
    "\n",
    "Para predecir la conformabilidad de perovskita de un compuesto dado, utilizamos las siguientes características,\n",
    "junto con las otras características\n",
    "mencionado anteriormente excepto tG.\n",
    "\n",
    "* Distorsión más baja: 1 (cúbica)\n",
    "* Distorsión más baja: 2 (tetragonal)\n",
    "* Distorsión más baja: 3 (ortorrómbica)\n",
    "* Distorsión más baja: 4 (romboédrica)"
   ]
  },
  {
   "cell_type": "markdown",
   "id": "17737768",
   "metadata": {},
   "source": [
    "Se eliminan las columnas no importantes:"
   ]
  },
  {
   "cell_type": "code",
   "execution_count": 144,
   "id": "eb139889",
   "metadata": {},
   "outputs": [],
   "source": [
    "df=df.drop(['In literature','tG','Compound'],axis=1)"
   ]
  },
  {
   "cell_type": "markdown",
   "id": "a6ba0f98",
   "metadata": {},
   "source": [
    "Muchos espacios con guiones, ¿cuáles tienen más?¿son datos nulos?\n"
   ]
  },
  {
   "cell_type": "code",
   "execution_count": 145,
   "id": "1b24e65c",
   "metadata": {},
   "outputs": [
    {
     "data": {
      "text/plain": [
       "A                    False\n",
       "B                    False\n",
       "v(A)                  True\n",
       "v(B)                  True\n",
       "r(AXII)(Å)           False\n",
       "r(AVI)(Å)            False\n",
       "r(BVI)(Å)            False\n",
       "EN(A)                False\n",
       "EN(B)                False\n",
       "l(A-O)(Å)            False\n",
       "l(B-O)(Å)            False\n",
       "ΔENR                 False\n",
       "τ                     True\n",
       "μ                    False\n",
       "Lowest distortion     True\n",
       "dtype: bool"
      ]
     },
     "execution_count": 145,
     "metadata": {},
     "output_type": "execute_result"
    }
   ],
   "source": [
    "(df=='-').any()"
   ]
  },
  {
   "cell_type": "markdown",
   "id": "cd3d5809",
   "metadata": {},
   "source": [
    "v(a),v(b), tao y Lowest distortion, lo poseen.\n",
    "¿Cuántos?"
   ]
  },
  {
   "cell_type": "code",
   "execution_count": 146,
   "id": "d1cea855",
   "metadata": {},
   "outputs": [
    {
     "name": "stdout",
     "output_type": "stream",
     "text": [
      "['0' '-' '1' '3' '2' '4' '5']\n",
      "['0' '-' '5' '3' '4' '2' '1']\n",
      "['-' '4.762492298' '4.341915139' ... '5.09535249' '4.891182576'\n",
      " '5.228952455']\n",
      "['cubic' 'orthorhombic' 'rhombohedral' 'tetragonal' '-']\n"
     ]
    }
   ],
   "source": [
    "print(df[\"v(A)\"].unique())\n",
    "print(df[\"v(B)\"].unique())\n",
    "print(df[\"τ\"].unique())\n",
    "print(df[\"Lowest distortion\"].unique())"
   ]
  },
  {
   "cell_type": "code",
   "execution_count": 147,
   "id": "513d0373",
   "metadata": {},
   "outputs": [
    {
     "data": {
      "text/plain": [
       "-    1881\n",
       "0    1233\n",
       "3     935\n",
       "2     884\n",
       "1     222\n",
       "4     146\n",
       "5      28\n",
       "Name: v(A), dtype: int64"
      ]
     },
     "execution_count": 147,
     "metadata": {},
     "output_type": "execute_result"
    }
   ],
   "source": [
    "df[\"v(A)\"].value_counts()"
   ]
  },
  {
   "cell_type": "code",
   "execution_count": 148,
   "id": "bf5a4850",
   "metadata": {},
   "outputs": [
    {
     "data": {
      "text/plain": [
       "-    1881\n",
       "0    1233\n",
       "3     935\n",
       "4     884\n",
       "5     222\n",
       "2     146\n",
       "1      28\n",
       "Name: v(B), dtype: int64"
      ]
     },
     "execution_count": 148,
     "metadata": {},
     "output_type": "execute_result"
    }
   ],
   "source": [
    "df[\"v(B)\"].value_counts()"
   ]
  },
  {
   "cell_type": "code",
   "execution_count": 149,
   "id": "4a3ee5c5",
   "metadata": {},
   "outputs": [
    {
     "data": {
      "text/plain": [
       "cubic           3253\n",
       "orthorhombic    1573\n",
       "rhombohedral     323\n",
       "tetragonal       127\n",
       "-                 53\n",
       "Name: Lowest distortion, dtype: int64"
      ]
     },
     "execution_count": 149,
     "metadata": {},
     "output_type": "execute_result"
    }
   ],
   "source": [
    "df[\"Lowest distortion\"].value_counts()"
   ]
  },
  {
   "cell_type": "code",
   "execution_count": 150,
   "id": "6326a2ff",
   "metadata": {},
   "outputs": [
    {
     "data": {
      "text/plain": [
       "-              3143\n",
       "4.930235309       6\n",
       "8.829629905       6\n",
       "5.345872478       6\n",
       "4.827582385       5\n",
       "               ... \n",
       "4.201909459       1\n",
       "4.942467893       1\n",
       "4.229645185       1\n",
       "4.268641938       1\n",
       "5.228952455       1\n",
       "Name: τ, Length: 1608, dtype: int64"
      ]
     },
     "execution_count": 150,
     "metadata": {},
     "output_type": "execute_result"
    }
   ],
   "source": [
    "df[\"τ\"].value_counts()"
   ]
  },
  {
   "cell_type": "markdown",
   "id": "3e4ea0d4",
   "metadata": {},
   "source": [
    "Para la columna τ, 3143 datos de 5329 son nulos. Por tanto, se elimina; Se eliminan las filas del Lowest distortion que tienen -: "
   ]
  },
  {
   "cell_type": "code",
   "execution_count": 151,
   "id": "3b35a366",
   "metadata": {},
   "outputs": [],
   "source": [
    "df=df.drop(['τ'], axis=1)"
   ]
  },
  {
   "cell_type": "code",
   "execution_count": 152,
   "id": "65a721dc",
   "metadata": {},
   "outputs": [],
   "source": [
    "df = df.drop(df[df['Lowest distortion']=='-'].index)"
   ]
  },
  {
   "cell_type": "markdown",
   "id": "240932e8",
   "metadata": {},
   "source": [
    "¿Qué tratamiento se hará para las valencias, ya que el 35% de los datos son nulos?\n",
    "\n",
    "1. No se podrían eliminar esas columnas, ya que los enlaces en los cristales son unas de las cosas más importantes a la hora de definir su estructura.\n",
    "\n",
    "2. No se podrían eliminar las filas que tienen esos datos faltantes, ya que se estarían eliminando el 35% de los datos.\n",
    "\n",
    "3. No se podrían reemplazar por cero, ya que induciría a un sesgo. Tampo se podría cambiar por la media, por las mismas razones.\n",
    "\n",
    "4. Toca crear una nueva característica, y designar a cada valor de valencia (['0' '-' '1' '3' '2' '4' '5'] ) una caracteristica. Entonces los datos nulos serán tratados como un valor. Se podría haber hecha un modelo predicitvo para la imputación múltiple, pero arrastraría más error al final."
   ]
  },
  {
   "cell_type": "code",
   "execution_count": 153,
   "id": "adbe5c0a",
   "metadata": {},
   "outputs": [
    {
     "data": {
      "text/html": [
       "<div>\n",
       "<style scoped>\n",
       "    .dataframe tbody tr th:only-of-type {\n",
       "        vertical-align: middle;\n",
       "    }\n",
       "\n",
       "    .dataframe tbody tr th {\n",
       "        vertical-align: top;\n",
       "    }\n",
       "\n",
       "    .dataframe thead th {\n",
       "        text-align: right;\n",
       "    }\n",
       "</style>\n",
       "<table border=\"1\" class=\"dataframe\">\n",
       "  <thead>\n",
       "    <tr style=\"text-align: right;\">\n",
       "      <th></th>\n",
       "      <th>A</th>\n",
       "      <th>B</th>\n",
       "      <th>v(A)</th>\n",
       "      <th>v(B)</th>\n",
       "      <th>r(AXII)(Å)</th>\n",
       "      <th>r(AVI)(Å)</th>\n",
       "      <th>r(BVI)(Å)</th>\n",
       "      <th>EN(A)</th>\n",
       "      <th>EN(B)</th>\n",
       "      <th>l(A-O)(Å)</th>\n",
       "      <th>...</th>\n",
       "      <th>v(A)=3</th>\n",
       "      <th>v(A)=4</th>\n",
       "      <th>v(A)=5</th>\n",
       "      <th>v(B)=-</th>\n",
       "      <th>v(B)=0</th>\n",
       "      <th>v(B)=1</th>\n",
       "      <th>v(B)=2</th>\n",
       "      <th>v(B)=3</th>\n",
       "      <th>v(B)=4</th>\n",
       "      <th>v(B)=5</th>\n",
       "    </tr>\n",
       "  </thead>\n",
       "  <tbody>\n",
       "    <tr>\n",
       "      <th>0</th>\n",
       "      <td>Ac</td>\n",
       "      <td>Ac</td>\n",
       "      <td>0</td>\n",
       "      <td>0</td>\n",
       "      <td>1.12</td>\n",
       "      <td>1.12</td>\n",
       "      <td>1.12</td>\n",
       "      <td>1.10</td>\n",
       "      <td>1.10</td>\n",
       "      <td>0.00000</td>\n",
       "      <td>...</td>\n",
       "      <td>0</td>\n",
       "      <td>0</td>\n",
       "      <td>0</td>\n",
       "      <td>0</td>\n",
       "      <td>1</td>\n",
       "      <td>0</td>\n",
       "      <td>0</td>\n",
       "      <td>0</td>\n",
       "      <td>0</td>\n",
       "      <td>0</td>\n",
       "    </tr>\n",
       "    <tr>\n",
       "      <th>1</th>\n",
       "      <td>Ac</td>\n",
       "      <td>Ag</td>\n",
       "      <td>0</td>\n",
       "      <td>0</td>\n",
       "      <td>1.12</td>\n",
       "      <td>1.12</td>\n",
       "      <td>0.95</td>\n",
       "      <td>1.10</td>\n",
       "      <td>1.93</td>\n",
       "      <td>0.00000</td>\n",
       "      <td>...</td>\n",
       "      <td>0</td>\n",
       "      <td>0</td>\n",
       "      <td>0</td>\n",
       "      <td>0</td>\n",
       "      <td>1</td>\n",
       "      <td>0</td>\n",
       "      <td>0</td>\n",
       "      <td>0</td>\n",
       "      <td>0</td>\n",
       "      <td>0</td>\n",
       "    </tr>\n",
       "    <tr>\n",
       "      <th>2</th>\n",
       "      <td>Ac</td>\n",
       "      <td>Al</td>\n",
       "      <td>0</td>\n",
       "      <td>0</td>\n",
       "      <td>1.12</td>\n",
       "      <td>1.12</td>\n",
       "      <td>0.54</td>\n",
       "      <td>1.10</td>\n",
       "      <td>1.61</td>\n",
       "      <td>0.00000</td>\n",
       "      <td>...</td>\n",
       "      <td>0</td>\n",
       "      <td>0</td>\n",
       "      <td>0</td>\n",
       "      <td>0</td>\n",
       "      <td>1</td>\n",
       "      <td>0</td>\n",
       "      <td>0</td>\n",
       "      <td>0</td>\n",
       "      <td>0</td>\n",
       "      <td>0</td>\n",
       "    </tr>\n",
       "    <tr>\n",
       "      <th>3</th>\n",
       "      <td>Ac</td>\n",
       "      <td>As</td>\n",
       "      <td>0</td>\n",
       "      <td>0</td>\n",
       "      <td>1.12</td>\n",
       "      <td>1.12</td>\n",
       "      <td>0.52</td>\n",
       "      <td>1.10</td>\n",
       "      <td>2.18</td>\n",
       "      <td>0.00000</td>\n",
       "      <td>...</td>\n",
       "      <td>0</td>\n",
       "      <td>0</td>\n",
       "      <td>0</td>\n",
       "      <td>0</td>\n",
       "      <td>1</td>\n",
       "      <td>0</td>\n",
       "      <td>0</td>\n",
       "      <td>0</td>\n",
       "      <td>0</td>\n",
       "      <td>0</td>\n",
       "    </tr>\n",
       "    <tr>\n",
       "      <th>4</th>\n",
       "      <td>Ac</td>\n",
       "      <td>Au</td>\n",
       "      <td>0</td>\n",
       "      <td>0</td>\n",
       "      <td>1.12</td>\n",
       "      <td>1.12</td>\n",
       "      <td>0.93</td>\n",
       "      <td>1.10</td>\n",
       "      <td>2.54</td>\n",
       "      <td>0.00000</td>\n",
       "      <td>...</td>\n",
       "      <td>0</td>\n",
       "      <td>0</td>\n",
       "      <td>0</td>\n",
       "      <td>0</td>\n",
       "      <td>1</td>\n",
       "      <td>0</td>\n",
       "      <td>0</td>\n",
       "      <td>0</td>\n",
       "      <td>0</td>\n",
       "      <td>0</td>\n",
       "    </tr>\n",
       "    <tr>\n",
       "      <th>...</th>\n",
       "      <td>...</td>\n",
       "      <td>...</td>\n",
       "      <td>...</td>\n",
       "      <td>...</td>\n",
       "      <td>...</td>\n",
       "      <td>...</td>\n",
       "      <td>...</td>\n",
       "      <td>...</td>\n",
       "      <td>...</td>\n",
       "      <td>...</td>\n",
       "      <td>...</td>\n",
       "      <td>...</td>\n",
       "      <td>...</td>\n",
       "      <td>...</td>\n",
       "      <td>...</td>\n",
       "      <td>...</td>\n",
       "      <td>...</td>\n",
       "      <td>...</td>\n",
       "      <td>...</td>\n",
       "      <td>...</td>\n",
       "      <td>...</td>\n",
       "    </tr>\n",
       "    <tr>\n",
       "      <th>5324</th>\n",
       "      <td>Zr</td>\n",
       "      <td>W</td>\n",
       "      <td>1</td>\n",
       "      <td>5</td>\n",
       "      <td>0.89</td>\n",
       "      <td>0.72</td>\n",
       "      <td>0.62</td>\n",
       "      <td>1.33</td>\n",
       "      <td>2.36</td>\n",
       "      <td>2.38342</td>\n",
       "      <td>...</td>\n",
       "      <td>0</td>\n",
       "      <td>0</td>\n",
       "      <td>0</td>\n",
       "      <td>0</td>\n",
       "      <td>0</td>\n",
       "      <td>0</td>\n",
       "      <td>0</td>\n",
       "      <td>0</td>\n",
       "      <td>0</td>\n",
       "      <td>1</td>\n",
       "    </tr>\n",
       "    <tr>\n",
       "      <th>5325</th>\n",
       "      <td>Zr</td>\n",
       "      <td>Y</td>\n",
       "      <td>-</td>\n",
       "      <td>-</td>\n",
       "      <td>0.89</td>\n",
       "      <td>0.72</td>\n",
       "      <td>0.90</td>\n",
       "      <td>1.33</td>\n",
       "      <td>1.22</td>\n",
       "      <td>2.38342</td>\n",
       "      <td>...</td>\n",
       "      <td>0</td>\n",
       "      <td>0</td>\n",
       "      <td>0</td>\n",
       "      <td>1</td>\n",
       "      <td>0</td>\n",
       "      <td>0</td>\n",
       "      <td>0</td>\n",
       "      <td>0</td>\n",
       "      <td>0</td>\n",
       "      <td>0</td>\n",
       "    </tr>\n",
       "    <tr>\n",
       "      <th>5326</th>\n",
       "      <td>Zr</td>\n",
       "      <td>Yb</td>\n",
       "      <td>-</td>\n",
       "      <td>-</td>\n",
       "      <td>0.89</td>\n",
       "      <td>0.72</td>\n",
       "      <td>0.95</td>\n",
       "      <td>1.33</td>\n",
       "      <td>1.10</td>\n",
       "      <td>2.38342</td>\n",
       "      <td>...</td>\n",
       "      <td>0</td>\n",
       "      <td>0</td>\n",
       "      <td>0</td>\n",
       "      <td>1</td>\n",
       "      <td>0</td>\n",
       "      <td>0</td>\n",
       "      <td>0</td>\n",
       "      <td>0</td>\n",
       "      <td>0</td>\n",
       "      <td>0</td>\n",
       "    </tr>\n",
       "    <tr>\n",
       "      <th>5327</th>\n",
       "      <td>Zr</td>\n",
       "      <td>Zn</td>\n",
       "      <td>-</td>\n",
       "      <td>-</td>\n",
       "      <td>0.89</td>\n",
       "      <td>0.72</td>\n",
       "      <td>0.74</td>\n",
       "      <td>1.33</td>\n",
       "      <td>1.65</td>\n",
       "      <td>2.38342</td>\n",
       "      <td>...</td>\n",
       "      <td>0</td>\n",
       "      <td>0</td>\n",
       "      <td>0</td>\n",
       "      <td>1</td>\n",
       "      <td>0</td>\n",
       "      <td>0</td>\n",
       "      <td>0</td>\n",
       "      <td>0</td>\n",
       "      <td>0</td>\n",
       "      <td>0</td>\n",
       "    </tr>\n",
       "    <tr>\n",
       "      <th>5328</th>\n",
       "      <td>Zr</td>\n",
       "      <td>Zr</td>\n",
       "      <td>-</td>\n",
       "      <td>-</td>\n",
       "      <td>0.89</td>\n",
       "      <td>0.72</td>\n",
       "      <td>0.72</td>\n",
       "      <td>1.33</td>\n",
       "      <td>1.33</td>\n",
       "      <td>2.38342</td>\n",
       "      <td>...</td>\n",
       "      <td>0</td>\n",
       "      <td>0</td>\n",
       "      <td>0</td>\n",
       "      <td>1</td>\n",
       "      <td>0</td>\n",
       "      <td>0</td>\n",
       "      <td>0</td>\n",
       "      <td>0</td>\n",
       "      <td>0</td>\n",
       "      <td>0</td>\n",
       "    </tr>\n",
       "  </tbody>\n",
       "</table>\n",
       "<p>5276 rows × 28 columns</p>\n",
       "</div>"
      ],
      "text/plain": [
       "       A   B v(A) v(B)  r(AXII)(Å)  r(AVI)(Å)  r(BVI)(Å)  EN(A)  EN(B)  \\\n",
       "0     Ac  Ac    0    0        1.12       1.12       1.12   1.10   1.10   \n",
       "1     Ac  Ag    0    0        1.12       1.12       0.95   1.10   1.93   \n",
       "2     Ac  Al    0    0        1.12       1.12       0.54   1.10   1.61   \n",
       "3     Ac  As    0    0        1.12       1.12       0.52   1.10   2.18   \n",
       "4     Ac  Au    0    0        1.12       1.12       0.93   1.10   2.54   \n",
       "...   ..  ..  ...  ...         ...        ...        ...    ...    ...   \n",
       "5324  Zr   W    1    5        0.89       0.72       0.62   1.33   2.36   \n",
       "5325  Zr   Y    -    -        0.89       0.72       0.90   1.33   1.22   \n",
       "5326  Zr  Yb    -    -        0.89       0.72       0.95   1.33   1.10   \n",
       "5327  Zr  Zn    -    -        0.89       0.72       0.74   1.33   1.65   \n",
       "5328  Zr  Zr    -    -        0.89       0.72       0.72   1.33   1.33   \n",
       "\n",
       "      l(A-O)(Å)  ...  v(A)=3  v(A)=4  v(A)=5 v(B)=-  v(B)=0  v(B)=1  v(B)=2  \\\n",
       "0       0.00000  ...       0       0       0      0       1       0       0   \n",
       "1       0.00000  ...       0       0       0      0       1       0       0   \n",
       "2       0.00000  ...       0       0       0      0       1       0       0   \n",
       "3       0.00000  ...       0       0       0      0       1       0       0   \n",
       "4       0.00000  ...       0       0       0      0       1       0       0   \n",
       "...         ...  ...     ...     ...     ...    ...     ...     ...     ...   \n",
       "5324    2.38342  ...       0       0       0      0       0       0       0   \n",
       "5325    2.38342  ...       0       0       0      1       0       0       0   \n",
       "5326    2.38342  ...       0       0       0      1       0       0       0   \n",
       "5327    2.38342  ...       0       0       0      1       0       0       0   \n",
       "5328    2.38342  ...       0       0       0      1       0       0       0   \n",
       "\n",
       "      v(B)=3  v(B)=4  v(B)=5  \n",
       "0          0       0       0  \n",
       "1          0       0       0  \n",
       "2          0       0       0  \n",
       "3          0       0       0  \n",
       "4          0       0       0  \n",
       "...      ...     ...     ...  \n",
       "5324       0       0       1  \n",
       "5325       0       0       0  \n",
       "5326       0       0       0  \n",
       "5327       0       0       0  \n",
       "5328       0       0       0  \n",
       "\n",
       "[5276 rows x 28 columns]"
      ]
     },
     "execution_count": 153,
     "metadata": {},
     "output_type": "execute_result"
    }
   ],
   "source": [
    "ValA = pd.get_dummies(df['v(A)'], prefix=\"v(A)=\", prefix_sep=\"\")\n",
    "ValB = pd.get_dummies(df['v(B)'], prefix=\"v(B)=\", prefix_sep=\"\")\n",
    "df=pd.concat([df, ValA, ValB], axis=1)\n",
    "df"
   ]
  },
  {
   "cell_type": "code",
   "execution_count": 154,
   "id": "b8f8fe30",
   "metadata": {},
   "outputs": [],
   "source": [
    "df=df.drop(['v(A)','v(B)'], axis=1)"
   ]
  },
  {
   "cell_type": "code",
   "execution_count": 155,
   "id": "4918ff6f",
   "metadata": {},
   "outputs": [
    {
     "name": "stdout",
     "output_type": "stream",
     "text": [
      "<class 'pandas.core.frame.DataFrame'>\n",
      "Int64Index: 5276 entries, 0 to 5328\n",
      "Data columns (total 26 columns):\n",
      " #   Column             Non-Null Count  Dtype  \n",
      "---  ------             --------------  -----  \n",
      " 0   A                  5276 non-null   object \n",
      " 1   B                  5276 non-null   object \n",
      " 2   r(AXII)(Å)         5276 non-null   float64\n",
      " 3   r(AVI)(Å)          5276 non-null   float64\n",
      " 4   r(BVI)(Å)          5276 non-null   float64\n",
      " 5   EN(A)              5276 non-null   float64\n",
      " 6   EN(B)              5276 non-null   float64\n",
      " 7   l(A-O)(Å)          5276 non-null   float64\n",
      " 8   l(B-O)(Å)          5276 non-null   float64\n",
      " 9   ΔENR               5276 non-null   float64\n",
      " 10  μ                  5276 non-null   float64\n",
      " 11  Lowest distortion  5276 non-null   object \n",
      " 12  v(A)=-             5276 non-null   uint8  \n",
      " 13  v(A)=0             5276 non-null   uint8  \n",
      " 14  v(A)=1             5276 non-null   uint8  \n",
      " 15  v(A)=2             5276 non-null   uint8  \n",
      " 16  v(A)=3             5276 non-null   uint8  \n",
      " 17  v(A)=4             5276 non-null   uint8  \n",
      " 18  v(A)=5             5276 non-null   uint8  \n",
      " 19  v(B)=-             5276 non-null   uint8  \n",
      " 20  v(B)=0             5276 non-null   uint8  \n",
      " 21  v(B)=1             5276 non-null   uint8  \n",
      " 22  v(B)=2             5276 non-null   uint8  \n",
      " 23  v(B)=3             5276 non-null   uint8  \n",
      " 24  v(B)=4             5276 non-null   uint8  \n",
      " 25  v(B)=5             5276 non-null   uint8  \n",
      "dtypes: float64(9), object(3), uint8(14)\n",
      "memory usage: 608.0+ KB\n"
     ]
    }
   ],
   "source": [
    "df.info()"
   ]
  },
  {
   "cell_type": "code",
   "execution_count": 156,
   "id": "f67223cb",
   "metadata": {},
   "outputs": [
    {
     "name": "stderr",
     "output_type": "stream",
     "text": [
      "C:\\Users\\belky\\anaconda3\\lib\\site-packages\\seaborn\\_decorators.py:36: FutureWarning: Pass the following variable as a keyword arg: x. From version 0.12, the only valid positional argument will be `data`, and passing other arguments without an explicit keyword will result in an error or misinterpretation.\n",
      "  warnings.warn(\n"
     ]
    },
    {
     "data": {
      "text/plain": [
       "<AxesSubplot:xlabel='Lowest distortion', ylabel='count'>"
      ]
     },
     "execution_count": 156,
     "metadata": {},
     "output_type": "execute_result"
    },
    {
     "data": {
      "image/png": "[encoded data removed]",
      "text/plain": [
       "<Figure size 432x288 with 1 Axes>"
      ]
     },
     "metadata": {
      "needs_background": "light"
     },
     "output_type": "display_data"
    }
   ],
   "source": [
    "sns.countplot(df['Lowest distortion'])"
   ]
  },
  {
   "cell_type": "markdown",
   "id": "5d0f4538",
   "metadata": {},
   "source": [
    "Se necesita codificar nuestras variables categóricas a numéricas: A, B y Lowest distortion."
   ]
  },
  {
   "cell_type": "code",
   "execution_count": 157,
   "id": "29d7f24b",
   "metadata": {},
   "outputs": [],
   "source": [
    "df[\"Lowest distortion\"] = df[\"Lowest distortion\"].astype('category')\n",
    "df[\"Lowest distortion\"] = df[\"Lowest distortion\"].cat.codes"
   ]
  },
  {
   "cell_type": "markdown",
   "id": "bd41676e",
   "metadata": {},
   "source": [
    "Codificando el Lowest distortion, se puede hacer una mapa de correlaciones, y ver como es su comportamiento con las otras variables"
   ]
  },
  {
   "cell_type": "code",
   "execution_count": 160,
   "id": "b88d4dfe",
   "metadata": {},
   "outputs": [
    {
     "name": "stderr",
     "output_type": "stream",
     "text": [
      "<ipython-input-160-9ccc3009f0ab>:2: FutureWarning: The default value of numeric_only in DataFrame.corr is deprecated. In a future version, it will default to False. Select only valid columns or specify the value of numeric_only to silence this warning.\n",
      "  sns.heatmap(df.corr())\n"
     ]
    },
    {
     "data": {
      "text/plain": [
       "<AxesSubplot:>"
      ]
     },
     "execution_count": 160,
     "metadata": {},
     "output_type": "execute_result"
    },
    {
     "data": {
      "image/png": "[encoded data removed]",
      "text/plain": [
       "<Figure size 864x864 with 2 Axes>"
      ]
     },
     "metadata": {
      "needs_background": "light"
     },
     "output_type": "display_data"
    }
   ],
   "source": [
    "plt.figure(figsize=(12,12))\n",
    "sns.heatmap(df.corr())"
   ]
  },
  {
   "cell_type": "markdown",
   "id": "3caca63a",
   "metadata": {},
   "source": [
    "# No sabemos si nos conviene codificar las componentes A y las B. Por tanto, haré una copia del dataset que tenemos, y codificaremos la A y la B allí #"
   ]
  },
  {
   "cell_type": "code",
   "execution_count": 169,
   "id": "85929200",
   "metadata": {
    "scrolled": true
   },
   "outputs": [],
   "source": [
    "data=df.copy()"
   ]
  },
  {
   "cell_type": "code",
   "execution_count": 170,
   "id": "37c9db8b",
   "metadata": {},
   "outputs": [
    {
     "name": "stdout",
     "output_type": "stream",
     "text": [
      "<class 'pandas.core.frame.DataFrame'>\n",
      "Int64Index: 5276 entries, 0 to 5328\n",
      "Data columns (total 26 columns):\n",
      " #   Column             Non-Null Count  Dtype  \n",
      "---  ------             --------------  -----  \n",
      " 0   A                  5276 non-null   object \n",
      " 1   B                  5276 non-null   object \n",
      " 2   r(AXII)(Å)         5276 non-null   float64\n",
      " 3   r(AVI)(Å)          5276 non-null   float64\n",
      " 4   r(BVI)(Å)          5276 non-null   float64\n",
      " 5   EN(A)              5276 non-null   float64\n",
      " 6   EN(B)              5276 non-null   float64\n",
      " 7   l(A-O)(Å)          5276 non-null   float64\n",
      " 8   l(B-O)(Å)          5276 non-null   float64\n",
      " 9   ΔENR               5276 non-null   float64\n",
      " 10  μ                  5276 non-null   float64\n",
      " 11  Lowest distortion  5276 non-null   int8   \n",
      " 12  v(A)=-             5276 non-null   uint8  \n",
      " 13  v(A)=0             5276 non-null   uint8  \n",
      " 14  v(A)=1             5276 non-null   uint8  \n",
      " 15  v(A)=2             5276 non-null   uint8  \n",
      " 16  v(A)=3             5276 non-null   uint8  \n",
      " 17  v(A)=4             5276 non-null   uint8  \n",
      " 18  v(A)=5             5276 non-null   uint8  \n",
      " 19  v(B)=-             5276 non-null   uint8  \n",
      " 20  v(B)=0             5276 non-null   uint8  \n",
      " 21  v(B)=1             5276 non-null   uint8  \n",
      " 22  v(B)=2             5276 non-null   uint8  \n",
      " 23  v(B)=3             5276 non-null   uint8  \n",
      " 24  v(B)=4             5276 non-null   uint8  \n",
      " 25  v(B)=5             5276 non-null   uint8  \n",
      "dtypes: float64(9), int8(1), object(2), uint8(14)\n",
      "memory usage: 571.9+ KB\n"
     ]
    }
   ],
   "source": [
    "data.info()"
   ]
  },
  {
   "cell_type": "markdown",
   "id": "49183239",
   "metadata": {},
   "source": [
    "# Comenzaremos a trabajar con la copia, para no irla a emparrar por si no nos conviene lo anterior\\ dicho #"
   ]
  },
  {
   "cell_type": "code",
   "execution_count": 173,
   "id": "9b574a11",
   "metadata": {},
   "outputs": [],
   "source": [
    "a = pd.get_dummies(data['A'], prefix=\"A=\", prefix_sep=\"\")\n",
    "b = pd.get_dummies(data['B'], prefix=\"B=\", prefix_sep=\"\")\n",
    "data = pd.concat([data, a, b], axis=1)"
   ]
  },
  {
   "cell_type": "code",
   "execution_count": 175,
   "id": "965c41d8",
   "metadata": {},
   "outputs": [
    {
     "data": {
      "text/html": [
       "<div>\n",
       "<style scoped>\n",
       "    .dataframe tbody tr th:only-of-type {\n",
       "        vertical-align: middle;\n",
       "    }\n",
       "\n",
       "    .dataframe tbody tr th {\n",
       "        vertical-align: top;\n",
       "    }\n",
       "\n",
       "    .dataframe thead th {\n",
       "        text-align: right;\n",
       "    }\n",
       "</style>\n",
       "<table border=\"1\" class=\"dataframe\">\n",
       "  <thead>\n",
       "    <tr style=\"text-align: right;\">\n",
       "      <th></th>\n",
       "      <th>A</th>\n",
       "      <th>B</th>\n",
       "      <th>r(AXII)(Å)</th>\n",
       "      <th>r(AVI)(Å)</th>\n",
       "      <th>r(BVI)(Å)</th>\n",
       "      <th>EN(A)</th>\n",
       "      <th>EN(B)</th>\n",
       "      <th>l(A-O)(Å)</th>\n",
       "      <th>l(B-O)(Å)</th>\n",
       "      <th>ΔENR</th>\n",
       "      <th>...</th>\n",
       "      <th>B=Ti</th>\n",
       "      <th>B=Tl</th>\n",
       "      <th>B=Tm</th>\n",
       "      <th>B=U</th>\n",
       "      <th>B=V</th>\n",
       "      <th>B=W</th>\n",
       "      <th>B=Y</th>\n",
       "      <th>B=Yb</th>\n",
       "      <th>B=Zn</th>\n",
       "      <th>B=Zr</th>\n",
       "    </tr>\n",
       "  </thead>\n",
       "  <tbody>\n",
       "    <tr>\n",
       "      <th>0</th>\n",
       "      <td>Ac</td>\n",
       "      <td>Ac</td>\n",
       "      <td>1.12</td>\n",
       "      <td>1.12</td>\n",
       "      <td>1.12</td>\n",
       "      <td>1.1</td>\n",
       "      <td>1.10</td>\n",
       "      <td>0.0</td>\n",
       "      <td>0.000000</td>\n",
       "      <td>-3.248000</td>\n",
       "      <td>...</td>\n",
       "      <td>0</td>\n",
       "      <td>0</td>\n",
       "      <td>0</td>\n",
       "      <td>0</td>\n",
       "      <td>0</td>\n",
       "      <td>0</td>\n",
       "      <td>0</td>\n",
       "      <td>0</td>\n",
       "      <td>0</td>\n",
       "      <td>0</td>\n",
       "    </tr>\n",
       "    <tr>\n",
       "      <th>1</th>\n",
       "      <td>Ac</td>\n",
       "      <td>Ag</td>\n",
       "      <td>1.12</td>\n",
       "      <td>1.12</td>\n",
       "      <td>0.95</td>\n",
       "      <td>1.1</td>\n",
       "      <td>1.93</td>\n",
       "      <td>0.0</td>\n",
       "      <td>2.488353</td>\n",
       "      <td>-2.565071</td>\n",
       "      <td>...</td>\n",
       "      <td>0</td>\n",
       "      <td>0</td>\n",
       "      <td>0</td>\n",
       "      <td>0</td>\n",
       "      <td>0</td>\n",
       "      <td>0</td>\n",
       "      <td>0</td>\n",
       "      <td>0</td>\n",
       "      <td>0</td>\n",
       "      <td>0</td>\n",
       "    </tr>\n",
       "    <tr>\n",
       "      <th>2</th>\n",
       "      <td>Ac</td>\n",
       "      <td>Al</td>\n",
       "      <td>1.12</td>\n",
       "      <td>1.12</td>\n",
       "      <td>0.54</td>\n",
       "      <td>1.1</td>\n",
       "      <td>1.61</td>\n",
       "      <td>0.0</td>\n",
       "      <td>1.892894</td>\n",
       "      <td>-1.846714</td>\n",
       "      <td>...</td>\n",
       "      <td>0</td>\n",
       "      <td>0</td>\n",
       "      <td>0</td>\n",
       "      <td>0</td>\n",
       "      <td>0</td>\n",
       "      <td>0</td>\n",
       "      <td>0</td>\n",
       "      <td>0</td>\n",
       "      <td>0</td>\n",
       "      <td>0</td>\n",
       "    </tr>\n",
       "    <tr>\n",
       "      <th>3</th>\n",
       "      <td>Ac</td>\n",
       "      <td>As</td>\n",
       "      <td>1.12</td>\n",
       "      <td>1.12</td>\n",
       "      <td>0.52</td>\n",
       "      <td>1.1</td>\n",
       "      <td>2.18</td>\n",
       "      <td>0.0</td>\n",
       "      <td>1.932227</td>\n",
       "      <td>-1.577429</td>\n",
       "      <td>...</td>\n",
       "      <td>0</td>\n",
       "      <td>0</td>\n",
       "      <td>0</td>\n",
       "      <td>0</td>\n",
       "      <td>0</td>\n",
       "      <td>0</td>\n",
       "      <td>0</td>\n",
       "      <td>0</td>\n",
       "      <td>0</td>\n",
       "      <td>0</td>\n",
       "    </tr>\n",
       "    <tr>\n",
       "      <th>4</th>\n",
       "      <td>Ac</td>\n",
       "      <td>Au</td>\n",
       "      <td>1.12</td>\n",
       "      <td>1.12</td>\n",
       "      <td>0.93</td>\n",
       "      <td>1.1</td>\n",
       "      <td>2.54</td>\n",
       "      <td>0.0</td>\n",
       "      <td>2.313698</td>\n",
       "      <td>-2.279786</td>\n",
       "      <td>...</td>\n",
       "      <td>0</td>\n",
       "      <td>0</td>\n",
       "      <td>0</td>\n",
       "      <td>0</td>\n",
       "      <td>0</td>\n",
       "      <td>0</td>\n",
       "      <td>0</td>\n",
       "      <td>0</td>\n",
       "      <td>0</td>\n",
       "      <td>0</td>\n",
       "    </tr>\n",
       "  </tbody>\n",
       "</table>\n",
       "<p>5 rows × 464 columns</p>\n",
       "</div>"
      ],
      "text/plain": [
       "    A   B  r(AXII)(Å)  r(AVI)(Å)  r(BVI)(Å)  EN(A)  EN(B)  l(A-O)(Å)  \\\n",
       "0  Ac  Ac        1.12       1.12       1.12    1.1   1.10        0.0   \n",
       "1  Ac  Ag        1.12       1.12       0.95    1.1   1.93        0.0   \n",
       "2  Ac  Al        1.12       1.12       0.54    1.1   1.61        0.0   \n",
       "3  Ac  As        1.12       1.12       0.52    1.1   2.18        0.0   \n",
       "4  Ac  Au        1.12       1.12       0.93    1.1   2.54        0.0   \n",
       "\n",
       "   l(B-O)(Å)      ΔENR  ...  B=Ti  B=Tl  B=Tm  B=U  B=V  B=W  B=Y  B=Yb  B=Zn  \\\n",
       "0   0.000000 -3.248000  ...     0     0     0    0    0    0    0     0     0   \n",
       "1   2.488353 -2.565071  ...     0     0     0    0    0    0    0     0     0   \n",
       "2   1.892894 -1.846714  ...     0     0     0    0    0    0    0     0     0   \n",
       "3   1.932227 -1.577429  ...     0     0     0    0    0    0    0     0     0   \n",
       "4   2.313698 -2.279786  ...     0     0     0    0    0    0    0     0     0   \n",
       "\n",
       "   B=Zr  \n",
       "0     0  \n",
       "1     0  \n",
       "2     0  \n",
       "3     0  \n",
       "4     0  \n",
       "\n",
       "[5 rows x 464 columns]"
      ]
     },
     "execution_count": 175,
     "metadata": {},
     "output_type": "execute_result"
    }
   ],
   "source": [
    "data.head()"
   ]
  },
  {
   "cell_type": "code",
   "execution_count": 176,
   "id": "371e05db",
   "metadata": {},
   "outputs": [
    {
     "name": "stderr",
     "output_type": "stream",
     "text": [
      "<ipython-input-176-acd226100141>:2: FutureWarning: The default value of numeric_only in DataFrame.corr is deprecated. In a future version, it will default to False. Select only valid columns or specify the value of numeric_only to silence this warning.\n",
      "  sns.heatmap(data.corr())\n"
     ]
    },
    {
     "data": {
      "text/plain": [
       "<AxesSubplot:>"
      ]
     },
     "execution_count": 176,
     "metadata": {},
     "output_type": "execute_result"
    },
    {
     "data": {
      "image/png": "[encoded data removed]",
      "text/plain": [
       "<Figure size 864x864 with 2 Axes>"
      ]
     },
     "metadata": {
      "needs_background": "light"
     },
     "output_type": "display_data"
    }
   ],
   "source": [
    "plt.figure(figsize=(12,12))\n",
    "sns.heatmap(data.corr())"
   ]
  }
 ],
 "metadata": {
  "kernelspec": {
   "display_name": "Python 3",
   "language": "python",
   "name": "python3"
  },
  "language_info": {
   "codemirror_mode": {
    "name": "ipython",
    "version": 3
   },
   "file_extension": ".py",
   "mimetype": "text/x-python",
   "name": "python",
   "nbconvert_exporter": "python",
   "pygments_lexer": "ipython3",
   "version": "3.8.8"
  }
 },
 "nbformat": 4,
 "nbformat_minor": 5
}
